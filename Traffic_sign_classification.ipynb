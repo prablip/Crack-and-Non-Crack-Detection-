{
  "nbformat": 4,
  "nbformat_minor": 0,
  "metadata": {
    "colab": {
      "provenance": [],
      "collapsed_sections": []
    },
    "kernelspec": {
      "name": "python3",
      "display_name": "Python 3"
    },
    "language_info": {
      "name": "python"
    }
  },
  "cells": [
    {
      "cell_type": "code",
      "execution_count": null,
      "metadata": {
        "id": "hN1fUox8CsWo"
      },
      "outputs": [],
      "source": [
        "import numpy as np\n",
        "import pandas as pd\n",
        "import matplotlib.pyplot as plt\n",
        "import cv2\n",
        "import tensorflow as tf\n",
        "from PIL import Image\n",
        "from sklearn.model_selection import train_test_split\n",
        "from tensorflow.keras.utils import to_categorical\n",
        "from tensorflow.keras.models import Sequential, load_model\n",
        "from tensorflow.keras.layers import Conv2D, MaxPool2D, Dense, Flatten, Dropout\n",
        "import os"
      ]
    },
    {
      "cell_type": "code",
      "source": [
        "from google.colab import drive\n",
        "drive.mount('/content/drive')"
      ],
      "metadata": {
        "id": "uVNsRvnHfkDu"
      },
      "execution_count": null,
      "outputs": []
    },
    {
      "cell_type": "code",
      "source": [
        "os.chdir('/content/drive/MyDrive/traffic signs')"
      ],
      "metadata": {
        "id": "Kn9-xEhUCyXH"
      },
      "execution_count": null,
      "outputs": []
    },
    {
      "cell_type": "markdown",
      "source": [
        "**Loading our DATA images and there respective labels into empty lists**"
      ],
      "metadata": {
        "id": "Fv1dbuuMd_Yc"
      }
    },
    {
      "cell_type": "code",
      "source": [
        "data = [] #This will store image's numpy arrays\n",
        "labels = [] #This will store image's labels\n",
        "classes =58\n",
        "cur_path = os.getcwd()\n",
        "for i in range(classes):     \n",
        "    path = os.path.join(cur_path,'DATA',str(i))     \n",
        "    images = os.listdir(path)\n",
        "    for a in images:\n",
        "      try:\n",
        "        image = Image.open(path +'//'+ a)             \n",
        "        image = image.resize((30,30))                                                  \n",
        "        image =np.array(image)  #Converting images into numpy array           \n",
        "        data.append(image)  \n",
        "        labels.append(i)\n",
        "      except Exception as e:\n",
        "        print(e)\n",
        "        \n",
        "  "
      ],
      "metadata": {
        "id": "07_fiiQhCyYS"
      },
      "execution_count": null,
      "outputs": []
    },
    {
      "cell_type": "code",
      "source": [
        "data = np.array(data) #finally we have to convert this list into a numpy array as our ANN will take only numpy array as an input\n",
        "labels = np.array(labels) #same here"
      ],
      "metadata": {
        "id": "WUq6acJUCyZQ"
      },
      "execution_count": null,
      "outputs": []
    },
    {
      "cell_type": "code",
      "source": [
        "data.shape #4170 images, resized to 30,30 and 3 tell that the image is not 'Black and White' but 'coloured'"
      ],
      "metadata": {
        "colab": {
          "base_uri": "https://localhost:8080/"
        },
        "id": "Z9AqjAatCyjm",
        "outputId": "c6cfcc95-a3f5-4fa5-d120-69b7fd46a395"
      },
      "execution_count": null,
      "outputs": [
        {
          "output_type": "execute_result",
          "data": {
            "text/plain": [
              "(4170, 30, 30, 3)"
            ]
          },
          "metadata": {},
          "execution_count": 5
        }
      ]
    },
    {
      "cell_type": "code",
      "source": [
        "labels.shape"
      ],
      "metadata": {
        "colab": {
          "base_uri": "https://localhost:8080/"
        },
        "id": "R_N28BFSrkza",
        "outputId": "d4679374-6261-405d-f52c-8c167d141b93"
      },
      "execution_count": null,
      "outputs": [
        {
          "output_type": "execute_result",
          "data": {
            "text/plain": [
              "(4170,)"
            ]
          },
          "metadata": {},
          "execution_count": 6
        }
      ]
    },
    {
      "cell_type": "markdown",
      "source": [
        "**Splitting into 80% Training set and 20% test**"
      ],
      "metadata": {
        "id": "nR2tsCmCdOnL"
      }
    },
    {
      "cell_type": "code",
      "source": [
        "X_train, X_test, y_train, y_test =train_test_split(data, labels, test_size=0.2, random_state=0)\n",
        "print(X_train.shape, X_test.shape, y_train.shape, y_test.shape)"
      ],
      "metadata": {
        "colab": {
          "base_uri": "https://localhost:8080/"
        },
        "id": "hOpIoa-zty39",
        "outputId": "1f3ca7ff-07f8-4b28-f4df-67012289fe46"
      },
      "execution_count": null,
      "outputs": [
        {
          "output_type": "stream",
          "name": "stdout",
          "text": [
            "(3336, 30, 30, 3) (834, 30, 30, 3) (3336,) (834,)\n"
          ]
        }
      ]
    },
    {
      "cell_type": "markdown",
      "source": [
        "**Now splitting test set into further 50% test set and 50% validation set. Therefore we get 80-10-10 split**"
      ],
      "metadata": {
        "id": "qXraI9XadaeC"
      }
    },
    {
      "cell_type": "code",
      "source": [
        "X_test, X_val, y_test, y_val =train_test_split(X_test, y_test, test_size=0.5, random_state=0)\n",
        "print(X_test.shape, X_val.shape, y_test.shape, y_val.shape)"
      ],
      "metadata": {
        "colab": {
          "base_uri": "https://localhost:8080/"
        },
        "id": "fjqHYF5C9q4a",
        "outputId": "50b5c0a2-73c9-42ec-e5c0-5245c18e51d3"
      },
      "execution_count": null,
      "outputs": [
        {
          "output_type": "stream",
          "name": "stdout",
          "text": [
            "(417, 30, 30, 3) (417, 30, 30, 3) (417,) (417,)\n"
          ]
        }
      ]
    },
    {
      "cell_type": "code",
      "source": [
        "y_test.shape"
      ],
      "metadata": {
        "colab": {
          "base_uri": "https://localhost:8080/"
        },
        "id": "uPlB6RTX-vER",
        "outputId": "423692f6-4023-4a2a-badc-f720722520d2"
      },
      "execution_count": null,
      "outputs": [
        {
          "output_type": "execute_result",
          "data": {
            "text/plain": [
              "(417,)"
            ]
          },
          "metadata": {},
          "execution_count": 9
        }
      ]
    },
    {
      "cell_type": "markdown",
      "source": [
        "**Converting all y values into one hot encoded vectors**"
      ],
      "metadata": {
        "id": "fGldj0VLf3wQ"
      }
    },
    {
      "cell_type": "code",
      "source": [
        "y_train = to_categorical(y_train,58) \n",
        "y_test = to_categorical(y_test,58)\n",
        "y_val = to_categorical(y_val,58)"
      ],
      "metadata": {
        "id": "HEkGFwomuAwp"
      },
      "execution_count": null,
      "outputs": []
    },
    {
      "cell_type": "code",
      "source": [],
      "metadata": {
        "id": "mjTdwOxOfvO_"
      },
      "execution_count": null,
      "outputs": []
    },
    {
      "cell_type": "code",
      "source": [
        "model =Sequential() \n",
        "\n",
        "model.add(Conv2D(filters=32, kernel_size=(5,5), activation='relu', input_shape=X_train.shape[1:])) \n",
        "\n",
        "model.add(Conv2D(filters=32, kernel_size=(5,5), activation='relu')) \n",
        "\n",
        "model.add(MaxPool2D(pool_size=(2,2)))\n",
        "\n",
        "model.add(Dropout(rate=0.25)) \n",
        "\n",
        "model.add(Conv2D(filters=64, kernel_size=(3,3), activation='relu')) \n",
        "\n",
        "model.add(Conv2D(filters=64, kernel_size=(3,3), activation='relu')) \n",
        "\n",
        "model.add(MaxPool2D(pool_size=(2,2))) \n",
        "\n",
        "model.add(Dropout(rate=0.25)) \n",
        "\n",
        "model.add(Flatten()) \n",
        "\n",
        "model.add(Dense(256, activation='relu')) \n",
        "\n",
        "model.add(Dropout(rate=0.5))\n",
        "\n",
        "model.add(Dense(58, activation='softmax')) # We have 58 classes that's why we have defined 58 in the dense model.add(Dense(43, activation='softmax'))"
      ],
      "metadata": {
        "id": "lk3-6Bh1uBdF"
      },
      "execution_count": null,
      "outputs": []
    },
    {
      "cell_type": "code",
      "source": [
        "model.compile(loss='categorical_crossentropy', optimizer='adam', metrics=['accuracy']) \n",
        "epochs = 15\n",
        "val_history = model.fit(X_train, y_train, batch_size=32, epochs=epochs, validation_data=(X_val, y_val))"
      ],
      "metadata": {
        "colab": {
          "base_uri": "https://localhost:8080/"
        },
        "id": "XPz-aRKL_KKQ",
        "outputId": "9e3ae531-3920-4b90-940a-e32dc61e471d"
      },
      "execution_count": null,
      "outputs": [
        {
          "output_type": "stream",
          "name": "stdout",
          "text": [
            "Epoch 1/15\n",
            "105/105 [==============================] - 17s 154ms/step - loss: 4.0452 - accuracy: 0.1793 - val_loss: 2.3175 - val_accuracy: 0.4628\n",
            "Epoch 2/15\n",
            "105/105 [==============================] - 14s 133ms/step - loss: 2.0112 - accuracy: 0.4817 - val_loss: 1.1984 - val_accuracy: 0.7314\n",
            "Epoch 3/15\n",
            "105/105 [==============================] - 14s 132ms/step - loss: 1.3712 - accuracy: 0.6490 - val_loss: 0.8269 - val_accuracy: 0.8106\n",
            "Epoch 4/15\n",
            "105/105 [==============================] - 16s 150ms/step - loss: 1.0413 - accuracy: 0.7125 - val_loss: 0.6007 - val_accuracy: 0.8585\n",
            "Epoch 5/15\n",
            "105/105 [==============================] - 14s 132ms/step - loss: 0.8379 - accuracy: 0.7695 - val_loss: 0.4556 - val_accuracy: 0.8897\n",
            "Epoch 6/15\n",
            "105/105 [==============================] - 14s 132ms/step - loss: 0.6791 - accuracy: 0.8144 - val_loss: 0.4316 - val_accuracy: 0.8921\n",
            "Epoch 7/15\n",
            "105/105 [==============================] - 18s 170ms/step - loss: 0.5948 - accuracy: 0.8354 - val_loss: 0.3244 - val_accuracy: 0.9065\n",
            "Epoch 8/15\n",
            "105/105 [==============================] - 15s 139ms/step - loss: 0.5297 - accuracy: 0.8492 - val_loss: 0.3173 - val_accuracy: 0.9329\n",
            "Epoch 9/15\n",
            "105/105 [==============================] - 14s 132ms/step - loss: 0.4928 - accuracy: 0.8549 - val_loss: 0.2120 - val_accuracy: 0.9496\n",
            "Epoch 10/15\n",
            "105/105 [==============================] - 16s 153ms/step - loss: 0.4323 - accuracy: 0.8726 - val_loss: 0.2267 - val_accuracy: 0.9640\n",
            "Epoch 11/15\n",
            "105/105 [==============================] - 14s 133ms/step - loss: 0.4744 - accuracy: 0.8621 - val_loss: 0.2160 - val_accuracy: 0.9664\n",
            "Epoch 12/15\n",
            "105/105 [==============================] - 14s 133ms/step - loss: 0.3550 - accuracy: 0.8933 - val_loss: 0.1782 - val_accuracy: 0.9520\n",
            "Epoch 13/15\n",
            "105/105 [==============================] - 14s 134ms/step - loss: 0.3333 - accuracy: 0.9068 - val_loss: 0.1805 - val_accuracy: 0.9640\n",
            "Epoch 14/15\n",
            "105/105 [==============================] - 14s 135ms/step - loss: 0.3469 - accuracy: 0.9047 - val_loss: 0.1504 - val_accuracy: 0.9568\n",
            "Epoch 15/15\n",
            "105/105 [==============================] - 14s 136ms/step - loss: 0.3174 - accuracy: 0.9104 - val_loss: 0.1307 - val_accuracy: 0.9736\n"
          ]
        }
      ]
    },
    {
      "cell_type": "code",
      "source": [
        "model.compile(loss='categorical_crossentropy', optimizer='adam', metrics=['accuracy']) \n",
        "epochs = 15\n",
        "test_history = model.fit(X_train, y_train, batch_size=32, epochs=epochs, validation_data=(X_test, y_test))"
      ],
      "metadata": {
        "colab": {
          "base_uri": "https://localhost:8080/"
        },
        "id": "mXYB2L9UuBiZ",
        "outputId": "af4ecc08-8816-4f70-98a8-24489c55ccf9"
      },
      "execution_count": null,
      "outputs": [
        {
          "output_type": "stream",
          "name": "stdout",
          "text": [
            "Epoch 1/15\n",
            "105/105 [==============================] - 17s 156ms/step - loss: 0.3242 - accuracy: 0.9125 - val_loss: 0.1087 - val_accuracy: 0.9760\n",
            "Epoch 2/15\n",
            "105/105 [==============================] - 14s 133ms/step - loss: 0.2763 - accuracy: 0.9260 - val_loss: 0.1188 - val_accuracy: 0.9784\n",
            "Epoch 3/15\n",
            "105/105 [==============================] - 14s 132ms/step - loss: 0.2312 - accuracy: 0.9293 - val_loss: 0.1128 - val_accuracy: 0.9760\n",
            "Epoch 4/15\n",
            "105/105 [==============================] - 14s 134ms/step - loss: 0.2431 - accuracy: 0.9305 - val_loss: 0.1094 - val_accuracy: 0.9832\n",
            "Epoch 5/15\n",
            "105/105 [==============================] - 18s 170ms/step - loss: 0.2241 - accuracy: 0.9353 - val_loss: 0.1155 - val_accuracy: 0.9616\n",
            "Epoch 6/15\n",
            "105/105 [==============================] - 17s 162ms/step - loss: 0.2805 - accuracy: 0.9239 - val_loss: 0.1181 - val_accuracy: 0.9640\n",
            "Epoch 7/15\n",
            "105/105 [==============================] - 18s 174ms/step - loss: 0.2401 - accuracy: 0.9353 - val_loss: 0.0765 - val_accuracy: 0.9808\n",
            "Epoch 8/15\n",
            "105/105 [==============================] - 19s 184ms/step - loss: 0.1929 - accuracy: 0.9442 - val_loss: 0.0977 - val_accuracy: 0.9832\n",
            "Epoch 9/15\n",
            "105/105 [==============================] - 17s 157ms/step - loss: 0.1875 - accuracy: 0.9463 - val_loss: 0.0985 - val_accuracy: 0.9784\n",
            "Epoch 10/15\n",
            "105/105 [==============================] - 14s 133ms/step - loss: 0.2576 - accuracy: 0.9251 - val_loss: 0.0746 - val_accuracy: 0.9808\n",
            "Epoch 11/15\n",
            "105/105 [==============================] - 15s 145ms/step - loss: 0.1896 - accuracy: 0.9412 - val_loss: 0.0633 - val_accuracy: 0.9856\n",
            "Epoch 12/15\n",
            "105/105 [==============================] - 19s 184ms/step - loss: 0.2159 - accuracy: 0.9424 - val_loss: 0.0792 - val_accuracy: 0.9808\n",
            "Epoch 13/15\n",
            "105/105 [==============================] - 19s 176ms/step - loss: 0.1380 - accuracy: 0.9535 - val_loss: 0.0838 - val_accuracy: 0.9832\n",
            "Epoch 14/15\n",
            "105/105 [==============================] - 17s 166ms/step - loss: 0.1427 - accuracy: 0.9592 - val_loss: 0.0754 - val_accuracy: 0.9808\n",
            "Epoch 15/15\n",
            "105/105 [==============================] - 15s 143ms/step - loss: 0.2385 - accuracy: 0.9415 - val_loss: 0.1494 - val_accuracy: 0.9784\n"
          ]
        }
      ]
    },
    {
      "cell_type": "code",
      "source": [
        "#val accuracy \n",
        "plt.figure(0)\n",
        "plt.plot(val_history.history['accuracy'], label='training accuracy')\n",
        "plt.plot(val_history.history['val_accuracy'], label=' accuracy')\n",
        "plt.title('Accuracy')\n",
        "plt.xlabel('epochs')\n",
        "plt.ylabel('accuracy')\n",
        "plt.legend()\n",
        "plt.show()"
      ],
      "metadata": {
        "colab": {
          "base_uri": "https://localhost:8080/",
          "height": 295
        },
        "id": "ohGt1OWauBwt",
        "outputId": "56f2f6af-4ef8-4d25-a79e-a1601a426419"
      },
      "execution_count": null,
      "outputs": [
        {
          "output_type": "display_data",
          "data": {
            "text/plain": [
              "<Figure size 432x288 with 1 Axes>"
            ],
            "image/png": "[encoded data removed]"
          },
          "metadata": {
            "needs_background": "light"
          }
        }
      ]
    },
    {
      "cell_type": "code",
      "source": [
        "#val Loss\n",
        "\n",
        "plt.plot(val_history.history['loss'], label='training loss')\n",
        "plt.plot(val_history.history['val_loss'], label='validation loss')\n",
        "plt.title('Loss')\n",
        "plt.xlabel('epochs')\n",
        "plt.ylabel('loss')\n",
        "plt.legend()\n",
        "plt.show()"
      ],
      "metadata": {
        "colab": {
          "base_uri": "https://localhost:8080/",
          "height": 295
        },
        "id": "V-i6OuScuB1s",
        "outputId": "9017ede3-75ab-42b8-d621-e855482ad8b2"
      },
      "execution_count": null,
      "outputs": [
        {
          "output_type": "display_data",
          "data": {
            "text/plain": [
              "<Figure size 432x288 with 1 Axes>"
            ],
            "image/png": "[encoded data removed]"
          },
          "metadata": {
            "needs_background": "light"
          }
        }
      ]
    },
    {
      "cell_type": "code",
      "source": [
        "#test accuracy \n",
        "plt.figure(0)\n",
        "plt.plot(test_history.history['accuracy'], label='training accuracy')\n",
        "plt.plot(test_history.history['val_accuracy'], label='test accuracy')\n",
        "plt.title('Accuracy')\n",
        "plt.xlabel('epochs')\n",
        "plt.ylabel('accuracy')\n",
        "plt.legend()\n",
        "plt.show()"
      ],
      "metadata": {
        "colab": {
          "base_uri": "https://localhost:8080/",
          "height": 295
        },
        "id": "mK5zX39_DtzG",
        "outputId": "4cb9e3a4-07af-45b2-cf47-223eda587230"
      },
      "execution_count": null,
      "outputs": [
        {
          "output_type": "display_data",
          "data": {
            "text/plain": [
              "<Figure size 432x288 with 1 Axes>"
            ],
            "image/png": "[encoded data removed]"
          },
          "metadata": {
            "needs_background": "light"
          }
        }
      ]
    },
    {
      "cell_type": "code",
      "source": [
        "#test Loss\n",
        "\n",
        "plt.plot(test_history.history['loss'], label='training loss')\n",
        "plt.plot(test_history.history['val_loss'], label='test loss')\n",
        "plt.title('Loss')\n",
        "plt.xlabel('epochs')\n",
        "plt.ylabel('loss')\n",
        "plt.legend()\n",
        "plt.show()"
      ],
      "metadata": {
        "colab": {
          "base_uri": "https://localhost:8080/",
          "height": 295
        },
        "id": "f9hJ4nsCD4ID",
        "outputId": "2c663784-6c53-4b7d-80e7-eb89ec10c410"
      },
      "execution_count": null,
      "outputs": [
        {
          "output_type": "display_data",
          "data": {
            "text/plain": [
              "<Figure size 432x288 with 1 Axes>"
            ],
            "image/png": "[encoded data removed]"
          },
          "metadata": {
            "needs_background": "light"
          }
        }
      ]
    },
    {
      "cell_type": "markdown",
      "source": [
        "**Bellow comments is the code to check random images on our trained model**"
      ],
      "metadata": {
        "id": "R-V4GwUgjaM7"
      }
    },
    {
      "cell_type": "code",
      "source": [
        "# label_set = pd.read_csv('/content/drive/MyDrive/traffic signs/labels.csv')\n",
        "# image = Image.open('/content/drive/MyDrive/traffic signs/TEST/007_0005_j.png')\n",
        "# image = image.resize((30,30))\n",
        "# image = np.array(image)\n",
        "# imgarray = []\n",
        "# imgarray.append(image)"
      ],
      "metadata": {
        "id": "DWkMwzJ-z6Ru"
      },
      "execution_count": null,
      "outputs": []
    },
    {
      "cell_type": "code",
      "source": [
        "# label_set"
      ],
      "metadata": {
        "id": "GK-Z6vKqNWuA"
      },
      "execution_count": null,
      "outputs": []
    },
    {
      "cell_type": "code",
      "source": [
        "# imgarray = np.array(imgarray)"
      ],
      "metadata": {
        "id": "E8HYaxEVJ2-Y"
      },
      "execution_count": null,
      "outputs": []
    },
    {
      "cell_type": "code",
      "source": [
        "# plt.imshow(image)"
      ],
      "metadata": {
        "id": "nQOu_qcROrzE"
      },
      "execution_count": null,
      "outputs": []
    },
    {
      "cell_type": "code",
      "source": [
        "# v = model.predict(imgarray)"
      ],
      "metadata": {
        "id": "ZTKmKTw59BqE"
      },
      "execution_count": null,
      "outputs": []
    },
    {
      "cell_type": "code",
      "source": [
        "# np.argmax(model.predict(imgarray))"
      ],
      "metadata": {
        "id": "ZWjMkbQ2LEF0"
      },
      "execution_count": null,
      "outputs": []
    },
    {
      "cell_type": "code",
      "source": [
        "# for i in range(0,57):\n",
        "#   if label_set['ClassId'][i] == np.argmax(model.predict(imgarray)):\n",
        "#     print(label_set['Name'][i])"
      ],
      "metadata": {
        "id": "QXld7SnaNcEe"
      },
      "execution_count": null,
      "outputs": []
    },
    {
      "cell_type": "markdown",
      "source": [
        "**Lets predict our test set results**"
      ],
      "metadata": {
        "id": "7bfprlAljnGT"
      }
    },
    {
      "cell_type": "code",
      "source": [
        "test_set_Predictions = []\n",
        "for i in model.predict(X_test):\n",
        "  test_set_Predictions.append(np.argmax(i))\n"
      ],
      "metadata": {
        "id": "Zx06dsfBgjOW"
      },
      "execution_count": null,
      "outputs": []
    },
    {
      "cell_type": "code",
      "source": [
        "test_set_Predictions = np.array(test_set_Predictions)"
      ],
      "metadata": {
        "id": "ZhJL4c5Uh8nO"
      },
      "execution_count": null,
      "outputs": []
    },
    {
      "cell_type": "code",
      "source": [
        "test_set_Predictions"
      ],
      "metadata": {
        "id": "RFX8BBR8itfs"
      },
      "execution_count": null,
      "outputs": []
    },
    {
      "cell_type": "markdown",
      "source": [
        "**y_test is in one hot encoded form and hence to check the accuracy score between y_test and test_set_Predictions, we have to one hot encode test_set_Predictions too**"
      ],
      "metadata": {
        "id": "wdjAJYd7jFof"
      }
    },
    {
      "cell_type": "code",
      "source": [
        "test_set_Predictions = to_categorical(test_set_Predictions,58) "
      ],
      "metadata": {
        "id": "hKgGL9LWilQE"
      },
      "execution_count": null,
      "outputs": []
    },
    {
      "cell_type": "code",
      "source": [
        "from sklearn.metrics import accuracy_score"
      ],
      "metadata": {
        "id": "M4CZF_gGiAkF"
      },
      "execution_count": null,
      "outputs": []
    },
    {
      "cell_type": "markdown",
      "source": [
        "**Final accuracy score between the Test set predictions and the actual test set results**"
      ],
      "metadata": {
        "id": "FhnQ7TFNi1PS"
      }
    },
    {
      "cell_type": "code",
      "source": [
        "accuracy_score(y_test, test_set_Predictions)"
      ],
      "metadata": {
        "colab": {
          "base_uri": "https://localhost:8080/"
        },
        "id": "mkzrm5RgiU-L",
        "outputId": "dac4b0f8-998f-4118-c024-dfff3ebc2cc0"
      },
      "execution_count": null,
      "outputs": [
        {
          "output_type": "execute_result",
          "data": {
            "text/plain": [
              "0.9784172661870504"
            ]
          },
          "metadata": {},
          "execution_count": 45
        }
      ]
    }
  ]
}